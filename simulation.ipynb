{
 "cells": [
  {
   "cell_type": "markdown",
   "id": "heavy-wilson",
   "metadata": {},
   "source": [
    "# HOT Systems: Optimized Forest Model "
   ]
  },
  {
   "cell_type": "code",
   "execution_count": 1,
   "id": "tight-science",
   "metadata": {
    "ExecuteTime": {
     "end_time": "2021-05-19T23:13:31.378742Z",
     "start_time": "2021-05-19T23:13:30.949139Z"
    }
   },
   "outputs": [],
   "source": [
    "# standard\n",
    "import math\n",
    "import random\n",
    "from tqdm.notebook import tqdm\n",
    "\n",
    "# data science\n",
    "import numpy as np\n",
    "from scipy.ndimage.measurements import label as label_components\n",
    "\n",
    "\n",
    "# visualization\n",
    "import matplotlib.pyplot as plt\n",
    "from IPython.core.display import HTML"
   ]
  },
  {
   "cell_type": "code",
   "execution_count": 2,
   "id": "imported-minute",
   "metadata": {
    "ExecuteTime": {
     "end_time": "2021-05-19T23:13:31.385096Z",
     "start_time": "2021-05-19T23:13:31.380739Z"
    },
    "code_folding": [
     0
    ]
   },
   "outputs": [],
   "source": [
    "def create_grid(L, spark=False, spark_distribution=None):\n",
    "    \n",
    "    if spark: # if a spark probability grid is desired\n",
    "        spark_grid = create_grid(L)\n",
    "        empty_idxs = np.ndindex(L, L)\n",
    "\n",
    "        # filling cells of an empty grid with values from the specified spark distribution \n",
    "        characteristic_scale = L/10\n",
    "        for idx in empty_idxs:\n",
    "            spark_grid[idx[0], idx[1]] = spark_distribution_FUNC(idx, characteristic_scale)\n",
    "\n",
    "        # normalizing probabilities (sum to one)\n",
    "        spark_grid /= np.sum(spark_grid) \n",
    "        \n",
    "        return spark_grid\n",
    "    \n",
    "        \n",
    "    else: # otherwise creating a regular empty grid\n",
    "        return np.zeros((L, L))"
   ]
  },
  {
   "cell_type": "code",
   "execution_count": 3,
   "id": "regional-watson",
   "metadata": {
    "ExecuteTime": {
     "end_time": "2021-05-19T23:13:31.402710Z",
     "start_time": "2021-05-19T23:13:31.387229Z"
    },
    "code_folding": [
     0
    ]
   },
   "outputs": [],
   "source": [
    "def plant_tree(forest_grid, idx):\n",
    "    \n",
    "    forest_grid_test = forest_grid.copy() # avoid overwriting actual forest in memory\n",
    "    forest_grid_test[idx[0], idx[1]] = 1 # planting a new tree\n",
    "    \n",
    "    # connected components of trees and their sizes\n",
    "    # ADD connectivity argument?\n",
    "    components_grid, _ = label_components(forest_grid_test)\n",
    "    components, counts = np.unique(components_grid, return_counts=True)\n",
    "    component2size = dict(zip(components, counts))\n",
    "\n",
    "    return forest_grid_test, component2size, components_grid"
   ]
  },
  {
   "cell_type": "code",
   "execution_count": 4,
   "id": "recreational-phrase",
   "metadata": {
    "ExecuteTime": {
     "end_time": "2021-05-19T23:13:31.439802Z",
     "start_time": "2021-05-19T23:13:31.435344Z"
    },
    "code_folding": [
     0
    ]
   },
   "outputs": [],
   "source": [
    "def burn_forest(forest_grid, spark_grid, connectivity, component2size, components_grid):\n",
    "    \n",
    "    # the expected total fire size with the newly planted tree\n",
    "    expected_cost = 0 \n",
    "    for idx in (np.argwhere(forest_grid==1)).tolist(): # for each tree\n",
    "        tree_coords = idx[0], idx[1]\n",
    "        \n",
    "        # the probability of a lightning strike hitting this tree\n",
    "        spark_probability = spark_grid[tree_coords]\n",
    "        \n",
    "        # getting the connected component and size that corresponds to this tree\n",
    "        component_id = components_grid[tree_coords]\n",
    "\n",
    "        # the size of the fire if this tree did catch (weighting the component size by probability)\n",
    "        potential_fire_size = component2size[component_id] * spark_probability\n",
    "        expected_cost += potential_fire_size\n",
    "        \n",
    "\n",
    "    return expected_cost"
   ]
  },
  {
   "cell_type": "code",
   "execution_count": 5,
   "id": "timely-patent",
   "metadata": {
    "ExecuteTime": {
     "end_time": "2021-05-19T23:13:31.570315Z",
     "start_time": "2021-05-19T23:13:31.555444Z"
    },
    "code_folding": [
     0
    ]
   },
   "outputs": [],
   "source": [
    "def simulate(L, D, connectivity, spark_distribution_FUNC):\n",
    "    \"\"\"\n",
    "    Runs a single simulation with specified parameters.\n",
    "    \"\"\"\n",
    "    forest_grid = create_grid(L) # creating the forest grid\n",
    "\n",
    "    # creating the spark grid, where each value represents the probability of a spark\n",
    "    spark_grid = create_grid(L, spark=True, spark_distribution=spark_distribution_FUNC)\n",
    "    \n",
    "    \n",
    "    # run items and structures to populate with data\n",
    "    tree_ct = 0 # to tally\n",
    "    empty_idxs = np.argwhere(forest_grid==0).tolist()\n",
    "    \n",
    "    epoch2forest_grid = dict()\n",
    "    epoch2cost = dict()\n",
    "    epoch2yield = dict()\n",
    "    \n",
    "    \n",
    "    # running the simulation\n",
    "    completion = tqdm(total=len(empty_idxs), desc=\"Simulation (D={}, L={})\".format(str(D), str(L)))\n",
    "    while len(empty_idxs) > 0: # while there are still spaces left to plant a tree\n",
    "\n",
    "        # pick 'D' cells to plant a tree\n",
    "        if D <= len(empty_idxs):\n",
    "            new_tree_idxs = random.sample(empty_idxs, D) \n",
    "        else: # D > number cells remaining\n",
    "            new_tree_idxs = empty_idxs\n",
    "\n",
    "\n",
    "        # figuring out what tree will result in the smallest expected fire burn\n",
    "        new_tree2expected_cost = dict() \n",
    "        for idx in new_tree_idxs: \n",
    "            \n",
    "            # plant the tree on a copy of the forest\n",
    "            forest_grid_test, component2size, components_grid = plant_tree(forest_grid, idx) \n",
    "            \n",
    "            # burn the forest down to assess the expected fire size and save the result\n",
    "            new_tree2expected_cost[idx[0], idx[1]] = burn_forest(forest_grid_test, spark_grid, connectivity,\n",
    "                                                                 component2size, components_grid)\n",
    "\n",
    "        optimal_tree__cost = min(new_tree2expected_cost.items(), key=lambda x: x[1]) # tree with minimum cost\n",
    "\n",
    "        \n",
    "        # planting this tree in the original forest grid\n",
    "        forest_grid, _, _ = plant_tree(forest_grid, optimal_tree__cost[0]) \n",
    "        empty_idxs.remove(list(optimal_tree__cost[0])) # removing this tree from the list of empty spaces\n",
    "\n",
    "\n",
    "        # metric calculations\n",
    "        tree_ct += 1\n",
    "        forest_density = tree_ct/(L**2)\n",
    "        \n",
    "        # calculating timber yield (accounting for the expected fire size)\n",
    "        timber_yield = forest_density - (optimal_tree__cost[1]/L**2)\n",
    "\n",
    "        \n",
    "        # saving values of interest \n",
    "        epoch2forest_grid[tree_ct] = forest_grid # note epochs are based at one here\n",
    "        epoch2cost[tree_ct] = optimal_tree__cost[1]\n",
    "        epoch2yield[tree_ct] = timber_yield\n",
    "        \n",
    "        completion.update(1)\n",
    "    completion.close()\n",
    "    \n",
    "    \n",
    "    # parsing run results for items of interest to return\n",
    "    # the epoch with the greatest timber yield after expected fire size\n",
    "    optimal_epoch = max(epoch2yield.items(), key=lambda x: x[1])[0]\n",
    "    optimal_forest = epoch2forest_grid[optimal_epoch]\n",
    "    \n",
    "    \n",
    "    return epoch2forest_grid, optimal_forest, epoch2yield"
   ]
  },
  {
   "cell_type": "code",
   "execution_count": 6,
   "id": "colored-bottle",
   "metadata": {
    "ExecuteTime": {
     "end_time": "2021-05-19T23:13:31.677917Z",
     "start_time": "2021-05-19T23:13:31.674449Z"
    },
    "code_folding": []
   },
   "outputs": [],
   "source": [
    "# parameters\n",
    "L = 10 # size of grid world\n",
    "D = L # design parameter representing how many trees to plant at each epoch\n",
    "connectivity = 1 # 1=border/4 connectivity, 2=diagonal/8 connectivity"
   ]
  },
  {
   "cell_type": "code",
   "execution_count": 7,
   "id": "chemical-syndication",
   "metadata": {
    "ExecuteTime": {
     "end_time": "2021-05-19T23:13:33.160238Z",
     "start_time": "2021-05-19T23:13:33.019745Z"
    }
   },
   "outputs": [
    {
     "data": {
      "text/plain": [
       "<matplotlib.image.AxesImage at 0x7f69502c8d90>"
      ]
     },
     "execution_count": 7,
     "metadata": {},
     "output_type": "execute_result"
    },
    {
     "data": {
      "text/plain": [
       "<matplotlib.image.AxesImage at 0x7f69502c8d90>"
      ]
     },
     "execution_count": 7,
     "metadata": {},
     "output_type": "execute_result"
    },
    {
     "data": {
      "image/png": "[encoded data removed]",
      "text/plain": [
       "<Figure size 432x288 with 1 Axes>"
      ]
     },
     "metadata": {
      "needs_background": "light"
     },
     "output_type": "display_data"
    },
    {
     "data": {
      "image/png": "[encoded data removed]",
      "text/plain": [
       "<Figure size 432x288 with 1 Axes>"
      ]
     },
     "metadata": {
      "needs_background": "light"
     },
     "output_type": "display_data"
    }
   ],
   "source": [
    "spark_distribution_FUNC = lambda idx, scale: math.exp(-idx[0]/scale) * math.exp(-idx[1]/scale)\n",
    "plt.imshow(create_grid(L, spark=True, spark_distribution=spark_distribution_FUNC))"
   ]
  },
  {
   "cell_type": "code",
   "execution_count": null,
   "id": "imperial-china",
   "metadata": {
    "ExecuteTime": {
     "end_time": "2021-05-19T23:05:17.320151Z",
     "start_time": "2021-05-19T23:05:01.659023Z"
    },
    "scrolled": true
   },
   "outputs": [],
   "source": [
    "idx2setting2data = {\"id0\":{\"L\":16, \"D\":1},\n",
    "                    \"id1\":{\"L\":16, \"D\":2},\n",
    "                    \"id2\":{\"L\":16, \"D\":16},\n",
    "                    \"id3\":{\"L\":16, \"D\":16**2}}\n",
    "\n",
    "\n",
    "# running each simulation\n",
    "for idx, setting2data in idx2setting2data.items():\n",
    "    setting2data[\"grids\"],\\\n",
    "    setting2data[\"optimal_grid\"],\\\n",
    "    setting2data[\"epoch2yield\"] = simulate(setting2data[\"L\"], setting2data[\"D\"], \n",
    "                                           connectivity, spark_distribution_FUNC)\n",
    "\n",
    "# plt.imshow(optimal_forest)"
   ]
  },
  {
   "cell_type": "markdown",
   "id": "joined-guess",
   "metadata": {
    "ExecuteTime": {
     "end_time": "2021-05-09T02:52:29.618762Z",
     "start_time": "2021-05-09T02:52:29.614841Z"
    }
   },
   "source": [
    "- sample no replacement"
   ]
  },
  {
   "cell_type": "markdown",
   "id": "d80824f6",
   "metadata": {},
   "source": [
    "## Animating grids"
   ]
  },
  {
   "cell_type": "code",
   "execution_count": null,
   "id": "spanish-portugal",
   "metadata": {
    "ExecuteTime": {
     "end_time": "2021-05-19T23:05:20.962267Z",
     "start_time": "2021-05-19T23:05:20.551571Z"
    }
   },
   "outputs": [],
   "source": [
    "import plotly.express as px\n",
    "from skimage import io\n",
    "\n",
    "import plotly.offline as pyo\n",
    "pyo.init_notebook_mode()"
   ]
  },
  {
   "cell_type": "code",
   "execution_count": null,
   "id": "871cee38",
   "metadata": {
    "ExecuteTime": {
     "end_time": "2021-05-19T23:05:21.812487Z",
     "start_time": "2021-05-19T23:05:21.640086Z"
    }
   },
   "outputs": [],
   "source": [
    "fig = px.imshow(idx2setting2data[\"id1\"][\"optimal_grid\"])\n",
    "fig.show()"
   ]
  },
  {
   "cell_type": "code",
   "execution_count": null,
   "id": "d87b3f12",
   "metadata": {
    "ExecuteTime": {
     "end_time": "2021-05-19T23:05:22.112269Z",
     "start_time": "2021-05-19T23:05:22.106709Z"
    }
   },
   "outputs": [],
   "source": [
    "img = np.array([idx2setting2data[\"id0\"][\"optimal_grid\"], idx2setting2data[\"id1\"][\"optimal_grid\"], \n",
    "                idx2setting2data[\"id1\"][\"optimal_grid\"], idx2setting2data[\"id3\"][\"optimal_grid\"]])\n",
    "img.shape"
   ]
  },
  {
   "cell_type": "code",
   "execution_count": null,
   "id": "1fd2aaa1",
   "metadata": {
    "ExecuteTime": {
     "end_time": "2021-05-19T23:05:22.947273Z",
     "start_time": "2021-05-19T23:05:22.831070Z"
    }
   },
   "outputs": [],
   "source": [
    "fig = px.imshow(img, facet_col=0, facet_col_wrap=4)\n",
    "fig.show()"
   ]
  },
  {
   "cell_type": "code",
   "execution_count": null,
   "id": "af47b26e",
   "metadata": {
    "ExecuteTime": {
     "end_time": "2021-05-19T23:05:23.460482Z",
     "start_time": "2021-05-19T23:05:23.455924Z"
    }
   },
   "outputs": [],
   "source": [
    "frames = np.array(list(idx2setting2data[\"id1\"][\"grids\"].values()))"
   ]
  },
  {
   "cell_type": "code",
   "execution_count": null,
   "id": "c992a3aa",
   "metadata": {
    "ExecuteTime": {
     "end_time": "2021-05-19T23:05:24.786461Z",
     "start_time": "2021-05-19T23:05:23.939193Z"
    }
   },
   "outputs": [],
   "source": [
    "fig = px.imshow(frames[-500:], animation_frame=0, labels=dict(animation_frame=\"slice\"))\n",
    "fig.layout.updatemenus[0].buttons[0].args[1][\"frame\"][\"duration\"] = 10\n",
    "fig.show()"
   ]
  },
  {
   "cell_type": "code",
   "execution_count": null,
   "id": "italic-locking",
   "metadata": {
    "ExecuteTime": {
     "end_time": "2021-05-19T23:05:35.000305Z",
     "start_time": "2021-05-19T23:05:34.994913Z"
    }
   },
   "outputs": [],
   "source": [
    "img = np.array([idx2setting2data[\"id0\"][\"grids\"], idx2setting2data[\"id1\"][\"grids\"], \n",
    "                idx2setting2data[\"id1\"][\"grids\"], idx2setting2data[\"id3\"][\"grids\"]])\n",
    "img.shape"
   ]
  },
  {
   "cell_type": "code",
   "execution_count": null,
   "id": "78eb162e",
   "metadata": {
    "ExecuteTime": {
     "end_time": "2021-05-19T23:05:35.571638Z",
     "start_time": "2021-05-19T23:05:35.560572Z"
    }
   },
   "outputs": [],
   "source": [
    "# frames = np.array([np.array(list(im.values())) for im in img])\n",
    "# frames.shape\n",
    "structured_grids = list()\n",
    "for idx, epoch in enumerate(range(len(idx2setting2data[\"id0\"][\"grids\"]))):\n",
    "    \n",
    "    # the epochs start at one ('after one step')\n",
    "    simulations_at_grid_idx = [idx2setting2data[\"id{}\".format(str(sim_idx))][\"grids\"][idx+1]\n",
    "                                  for sim_idx in list(range(4))]\n",
    "    structured_grids.append(simulations_at_grid_idx)\n",
    "    \n",
    "    \n",
    "structured_grids = np.array(structured_grids)\n",
    "structured_grids.shape"
   ]
  },
  {
   "cell_type": "code",
   "execution_count": null,
   "id": "f77f90e6",
   "metadata": {
    "ExecuteTime": {
     "end_time": "2021-05-19T23:05:37.062485Z",
     "start_time": "2021-05-19T23:05:36.528348Z"
    }
   },
   "outputs": [],
   "source": [
    "fig = px.imshow(structured_grids, animation_frame=0, facet_col=1, binary_string=True)\n",
    "fig.layout.updatemenus[0].buttons[0].args[1]['frame']['duration'] = 0\n",
    "fig.layout.updatemenus[0].buttons[0].args[1]['transition']['duration'] = 0\n",
    "fig.show()"
   ]
  },
  {
   "cell_type": "markdown",
   "id": "9b64628f",
   "metadata": {},
   "source": [
    "## Line charts"
   ]
  },
  {
   "cell_type": "code",
   "execution_count": null,
   "id": "cb275d9a",
   "metadata": {
    "ExecuteTime": {
     "end_time": "2021-05-19T23:05:47.515038Z",
     "start_time": "2021-05-19T23:05:47.511593Z"
    }
   },
   "outputs": [],
   "source": [
    "import numpy as np\n",
    "import matplotlib.pyplot as plt\n",
    "import matplotlib.animation as animation\n",
    "plt.rcParams['animation.html'] = 'html5'"
   ]
  },
  {
   "cell_type": "code",
   "execution_count": null,
   "id": "7f715ae6",
   "metadata": {
    "ExecuteTime": {
     "end_time": "2021-05-19T23:05:47.941919Z",
     "start_time": "2021-05-19T23:05:47.936016Z"
    }
   },
   "outputs": [],
   "source": [
    "# x = np.arange(130, 190, 1)\n",
    "# y = 97.928 * np.exp(- np.exp(-  0.1416 *( x - 146.1 )))\n",
    "# z = 96.9684 * np.exp(- np.exp(-0.1530*( x - 144.4)))\n",
    "\n",
    "x = np.array(list(idx2setting2data[\"id0\"][\"epoch2yield\"].keys())) # same for all, starts at one\n",
    "\n",
    "y1 = np.array(list(idx2setting2data[\"id0\"][\"epoch2yield\"].values()))\n",
    "y2 = np.array(list(idx2setting2data[\"id3\"][\"epoch2yield\"].values()))"
   ]
  },
  {
   "cell_type": "code",
   "execution_count": null,
   "id": "e1bfb900",
   "metadata": {
    "ExecuteTime": {
     "end_time": "2021-05-19T23:11:53.046763Z",
     "start_time": "2021-05-19T23:11:41.902018Z"
    }
   },
   "outputs": [],
   "source": [
    "# plt.style.use(['seaborn-notebook'])\n",
    "plt.style.use('seaborn-poster')\n",
    "fig, ax = plt.subplots()\n",
    "ax.grid()\n",
    "\n",
    "line1, = ax.plot(x, y1, color=\"r\", label=\"fdsa\")\n",
    "line2, = ax.plot(x, y2, color=\"g\", label=\"asdf\")\n",
    "\n",
    "def update(epoch, x, y1, y2, line1, line2):\n",
    "    ax.set_xlabel('Epoch: {}'.format(str(epoch)))\n",
    "    \n",
    "    \n",
    "    line1.set_data(x[:epoch], y1[:epoch])\n",
    "    line2.set_data(x[:epoch], y2[:epoch])\n",
    "    return [line1, line2]\n",
    "\n",
    "ani = animation.FuncAnimation(fig, update, \n",
    "                              len(x), \n",
    "                              fargs=[x, y1, y2, line1, line2],\n",
    "                              interval=30, # delay (ms)\n",
    "                              blit=True) \n",
    "\n",
    "fig.suptitle(\"asdf\")\n",
    "ax.set_xlabel('Epoch')\n",
    "ax.set_ylabel('yaxis')\n",
    "plt.legend()\n",
    "\n",
    "\n",
    "writervideo = animation.FFMpegWriter(fps=60)\n",
    "ani.save('./yield_curves.mp4', writer=writervideo)\n",
    "plt.close()"
   ]
  },
  {
   "cell_type": "code",
   "execution_count": null,
   "id": "4ea806e3",
   "metadata": {
    "ExecuteTime": {
     "end_time": "2021-05-19T23:10:38.438090Z",
     "start_time": "2021-05-19T23:10:27.576966Z"
    }
   },
   "outputs": [],
   "source": [
    "HTML(ani.to_html5_video())"
   ]
  }
 ],
 "metadata": {
  "kernelspec": {
   "display_name": "Python 3.7.6 64-bit ('base': conda)",
   "language": "python",
   "name": "python37664bitbaseconda4254859eb6c24c2cac4bd6821edbff40"
  },
  "language_info": {
   "codemirror_mode": {
    "name": "ipython",
    "version": 3
   },
   "file_extension": ".py",
   "mimetype": "text/x-python",
   "name": "python",
   "nbconvert_exporter": "python",
   "pygments_lexer": "ipython3",
   "version": "3.7.6"
  },
  "latex_envs": {
   "LaTeX_envs_menu_present": true,
   "autoclose": false,
   "autocomplete": true,
   "bibliofile": "biblio.bib",
   "cite_by": "apalike",
   "current_citInitial": 1,
   "eqLabelWithNumbers": true,
   "eqNumInitial": 1,
   "hotkeys": {
    "equation": "Ctrl-E",
    "itemize": "Ctrl-I"
   },
   "labels_anchors": false,
   "latex_user_defs": false,
   "report_style_numbering": false,
   "user_envs_cfg": false
  },
  "toc": {
   "base_numbering": 1,
   "nav_menu": {},
   "number_sections": true,
   "sideBar": true,
   "skip_h1_title": false,
   "title_cell": "Table of Contents",
   "title_sidebar": "Contents",
   "toc_cell": false,
   "toc_position": {},
   "toc_section_display": true,
   "toc_window_display": false
  }
 },
 "nbformat": 4,
 "nbformat_minor": 5
}
